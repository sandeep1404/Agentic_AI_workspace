{
 "cells": [
  {
   "cell_type": "markdown",
   "metadata": {},
   "source": [
    "### State\n",
    "First, define the State of the graph.\n",
    "\n",
    "The State schema serves as the input schema for all Nodes and Edges in the graph.\n",
    "\n",
    "Let's use the TypedDict class from python's typing module as our schema, which provides type hints for the keys."
   ]
  },
  {
   "cell_type": "code",
   "execution_count": 1,
   "metadata": {},
   "outputs": [],
   "source": [
    "from typing_extensions import TypedDict\n",
    "class State(TypedDict):\n",
    "    graph_state:str\n"
   ]
  },
  {
   "cell_type": "markdown",
   "metadata": {},
   "source": [
    "#### Nodes\n",
    "Nodes are just python functions.\n",
    "\n",
    "The first positional argument is the state, as defined above.\n",
    "\n",
    "Because the state is a TypedDict with schema as defined above, each node can access the key, graph_state, with state['graph_state'].\n",
    "\n",
    "Each node returns a new value of the state key graph_state.\n",
    "\n",
    "By default, the new value returned by each node will override the prior state value."
   ]
  },
  {
   "cell_type": "code",
   "execution_count": 2,
   "metadata": {},
   "outputs": [],
   "source": [
    "def first_node(state):\n",
    "    print(\"My First Node is called\")\n",
    "    return {\"graph_state\":state['graph_state']+\"I am playing\"}\n",
    "\n",
    "def second_node(state):\n",
    "    print(\"My Second Node is called\")\n",
    "    return {\"graph_state\":state['graph_state']+\" Cricket\"}\n",
    "\n",
    "\n",
    "def third_node(state):\n",
    "    print(\"My Third Node is called\")\n",
    "    return {\"graph_state\":state['graph_state']+\" Badminton\"}\n"
   ]
  },
  {
   "cell_type": "markdown",
   "metadata": {},
   "source": [
    "#### Edges\n",
    "Edges connect the nodes.\n",
    "\n",
    "Normal Edges are used if you want to always go from, for example, node_1 to node_2.\n",
    "\n",
    "Conditional Edges are used if you want to optionally route between nodes.\n",
    "\n",
    "Conditional edges are implemented as functions that return the next node to visit based upon some logic."
   ]
  },
  {
   "cell_type": "code",
   "execution_count": 3,
   "metadata": {},
   "outputs": [],
   "source": [
    "import random\n",
    "from typing import Literal\n",
    "\n",
    "def decide_play(state)->Literal['second_node','third_node']:\n",
    "    graph_state=state['graph_state']\n",
    "\n",
    "    if random.random()<0.5:\n",
    "        return \"second_node\"\n",
    "    \n",
    "    return \"third_node\"\n"
   ]
  },
  {
   "cell_type": "markdown",
   "metadata": {},
   "source": [
    "## Graph \n"
   ]
  },
  {
   "cell_type": "markdown",
   "metadata": {},
   "source": [
    "#### Graph Construction\n",
    "Now, we build the graph from our components defined above.\n",
    "\n",
    "The StateGraph class is the graph class that we can use.\n",
    "\n",
    "First, we initialize a StateGraph with the State class we defined above.\n",
    "\n",
    "Then, we add our nodes and edges.\n",
    "\n",
    "We use the START Node, a special node that sends user input to the graph, to indicate where to start our graph.\n",
    "\n",
    "The END Node is a special node that represents a terminal node.\n",
    "\n",
    "Finally, we compile our graph to perform a few basic checks on the graph structure.\n",
    "\n",
    "We can visualize the graph as a Mermaid diagram."
   ]
  },
  {
   "cell_type": "code",
   "execution_count": 4,
   "metadata": {},
   "outputs": [
    {
     "data": {
      "image/jpeg": "[encoded data removed]",
      "text/plain": [
       "<IPython.core.display.Image object>"
      ]
     },
     "metadata": {},
     "output_type": "display_data"
    }
   ],
   "source": [
    "from IPython.display import Image, display\n",
    "from langgraph.graph import StateGraph, START, END\n",
    "\n",
    "## Build Graph\n",
    "builder=StateGraph(State)\n",
    "\n",
    "builder.add_node(\"first_node\",first_node)\n",
    "builder.add_node(\"second_node\",second_node)\n",
    "builder.add_node(\"third_node\",third_node)\n",
    "\n",
    "## Logic\n",
    "builder.add_edge(START,\"first_node\")\n",
    "builder.add_conditional_edges(\"first_node\",decide_play)\n",
    "builder.add_edge(\"second_node\",END)\n",
    "builder.add_edge(\"third_node\",END)\n",
    "\n",
    "## Add\n",
    "graph=builder.compile()\n",
    "\n",
    "## View\n",
    "display(Image(graph.get_graph().draw_mermaid_png()))\n"
   ]
  },
  {
   "cell_type": "markdown",
   "metadata": {},
   "source": [
    "### Graph Invocation\n",
    "The compiled graph implements the runnable protocol.\n",
    "\n",
    "This provides a standard way to execute LangChain components.\n",
    "\n",
    "invoke is one of the standard methods in this interface.\n",
    "\n",
    "The input is a dictionary {\"graph_state\": \"Hi, this is lance.\"}, which sets the initial value for our graph state dict.\n",
    "\n",
    "When invoke is called, the graph starts execution from the START node.\n",
    "\n",
    "It progresses through the defined nodes (node_1, node_2, node_3) in order.\n",
    "\n",
    "The conditional edge will traverse from node 1 to node 2 or 3 using a 50/50 decision rule.\n",
    "\n",
    "Each node function receives the current state and returns a new value, which overrides the graph state.\n",
    "\n",
    "The execution continues until it reaches the END node."
   ]
  },
  {
   "cell_type": "code",
   "execution_count": 5,
   "metadata": {},
   "outputs": [
    {
     "name": "stdout",
     "output_type": "stream",
     "text": [
      "My First Node is called\n",
      "My Third Node is called\n"
     ]
    },
    {
     "data": {
      "text/plain": [
       "{'graph_state': 'Hi,My name is Krish,I am playing Badminton'}"
      ]
     },
     "execution_count": 5,
     "metadata": {},
     "output_type": "execute_result"
    }
   ],
   "source": [
    "graph.invoke({\"graph_state\":\"Hi,My name is Krish,\"})"
   ]
  },
  {
   "cell_type": "markdown",
   "metadata": {},
   "source": [
    "### Basic Chatbot"
   ]
  },
  {
   "cell_type": "code",
   "execution_count": 6,
   "metadata": {},
   "outputs": [],
   "source": [
    "from typing import Annotated\n",
    "\n",
    "from typing_extensions import TypedDict\n",
    "\n",
    "from langgraph.graph import StateGraph, START, END\n",
    "from langgraph.graph.message import add_messages"
   ]
  },
  {
   "cell_type": "code",
   "execution_count": 7,
   "metadata": {},
   "outputs": [],
   "source": [
    "class State(TypedDict):\n",
    "    messages:Annotated[list,add_messages]\n"
   ]
  },
  {
   "cell_type": "code",
   "execution_count": 8,
   "metadata": {},
   "outputs": [],
   "source": [
    "graph_builder=StateGraph(State)"
   ]
  },
  {
   "cell_type": "code",
   "execution_count": 9,
   "metadata": {},
   "outputs": [],
   "source": [
    "import os\n",
    "from dotenv import load_dotenv\n",
    "\n",
    "load_dotenv()\n",
    "os.environ[\"GROQ_API_KEY\"]=os.getenv(\"GROQ_API_KEY\")"
   ]
  },
  {
   "cell_type": "code",
   "execution_count": 10,
   "metadata": {},
   "outputs": [
    {
     "data": {
      "text/plain": [
       "ChatGroq(client=<groq.resources.chat.completions.Completions object at 0x788e1892ab60>, async_client=<groq.resources.chat.completions.AsyncCompletions object at 0x788e18929ea0>, model_name='gemma2-9b-it', groq_api_key=SecretStr('**********'))"
      ]
     },
     "execution_count": 10,
     "metadata": {},
     "output_type": "execute_result"
    }
   ],
   "source": [
    "from langchain_groq import ChatGroq\n",
    "llm=ChatGroq(model=\"gemma2-9b-it\")\n",
    "llm"
   ]
  },
  {
   "cell_type": "code",
   "execution_count": 11,
   "metadata": {},
   "outputs": [],
   "source": [
    "def chatbot(state:State):\n",
    "    return {\"messages\":[llm.invoke(state[\"messages\"])]}"
   ]
  },
  {
   "cell_type": "code",
   "execution_count": 12,
   "metadata": {},
   "outputs": [],
   "source": [
    "graph_builder.add_node(\"chatbot\",chatbot)\n",
    "graph_builder.add_edge(START, \"chatbot\")\n",
    "graph_builder.add_edge(\"chatbot\", END)\n",
    "graph = graph_builder.compile()\n"
   ]
  },
  {
   "cell_type": "code",
   "execution_count": 13,
   "metadata": {},
   "outputs": [
    {
     "data": {
      "image/jpeg": "[encoded data removed]",
      "text/plain": [
       "<IPython.core.display.Image object>"
      ]
     },
     "metadata": {},
     "output_type": "display_data"
    }
   ],
   "source": [
    "from IPython.display import Image, display\n",
    "display(Image(graph.get_graph().draw_mermaid_png()))"
   ]
  },
  {
   "cell_type": "code",
   "execution_count": 14,
   "metadata": {},
   "outputs": [],
   "source": [
    "def stream_graph_updates(user_input: str):\n",
    "    for event in graph.stream({\"messages\": [{\"role\": \"user\", \"content\": user_input}]}):\n",
    "        for value in event.values():\n",
    "            print(\"Assistant:\", value[\"messages\"][-1].content)"
   ]
  },
  {
   "cell_type": "code",
   "execution_count": 15,
   "metadata": {},
   "outputs": [
    {
     "name": "stdout",
     "output_type": "stream",
     "text": [
      "Assistant: Hi! 👋 \n",
      "\n",
      "What can I do for you today? 😊\n",
      "\n",
      "Assistant: ML stands for **Machine Learning**. \n",
      "\n",
      "It's a type of artificial intelligence (AI) where computers learn from data without being explicitly programmed. \n",
      "\n",
      "Think of it like this: instead of giving a computer specific instructions for every scenario, you feed it lots of data and let it figure out the patterns and rules on its own.\n",
      "\n",
      "**Here's a simple example:**\n",
      "\n",
      "Imagine you want to teach a computer to recognize cats in pictures.\n",
      "\n",
      "* **Traditional programming:** You'd have to write code that defines what features make a cat (e.g., pointy ears, whiskers, tail). This would be very complex and time-consuming.\n",
      "\n",
      "* **Machine learning:** You'd show the computer thousands of pictures labeled \"cat\" and \"not cat.\" The computer would analyze these images, learn the common features of cats, and eventually be able to identify cats in new, unseen pictures.\n",
      "\n",
      "**Key points about machine learning:**\n",
      "\n",
      "* **Data-driven:**  ML algorithms rely heavily on data to learn. The more data, the better they perform.\n",
      "* **Algorithms:** There are many different types of ML algorithms, each suited for different tasks.\n",
      "* **Training:** The process of feeding data to an ML algorithm so it can learn is called training.\n",
      "* **Prediction:** Once trained, an ML model can be used to make predictions on new data.\n",
      "\n",
      "**Examples of machine learning in action:**\n",
      "\n",
      "* **Spam filtering**\n",
      "* **Recommendation systems (Netflix, Amazon)**\n",
      "* **Image recognition**\n",
      "* **Self-driving cars**\n",
      "* **Fraud detection**\n",
      "\n",
      "Machine learning is a rapidly evolving field with the potential to revolutionize many industries.\n",
      "\n",
      "Assistant: Please provide me with some context! \n",
      "\n",
      "There are likely many people named Sandeep Kodam. To tell you about the right one, I need more information.  For example:\n",
      "\n",
      "* **What is he known for?** Is he an actor, a musician, a scientist, a businessperson?\n",
      "* **Where is he from?** \n",
      "* **Do you know anything else about him?**  A company he works for, an organization he's involved with, etc.\n",
      "\n",
      "\n",
      "The more details you can give me, the better I can help! \n",
      "\n",
      "Goodbye!\n"
     ]
    }
   ],
   "source": [
    "while True:\n",
    "    try:\n",
    "        user_input = input(\"User: \")\n",
    "        if user_input.lower() in [\"quit\", \"exit\", \"q\"]:\n",
    "            print(\"Goodbye!\")\n",
    "            break\n",
    "\n",
    "        stream_graph_updates(user_input)\n",
    "    except:\n",
    "        # fallback if input() is not available\n",
    "        user_input = \"What do you know about LangGraph?\"\n",
    "        print(\"User: \" + user_input)\n",
    "        stream_graph_updates(user_input)\n",
    "        break"
   ]
  },
  {
   "cell_type": "code",
   "execution_count": null,
   "metadata": {},
   "outputs": [],
   "source": []
  }
 ],
 "metadata": {
  "kernelspec": {
   "display_name": "Python 3",
   "language": "python",
   "name": "python3"
  },
  "language_info": {
   "codemirror_mode": {
    "name": "ipython",
    "version": 3
   },
   "file_extension": ".py",
   "mimetype": "text/x-python",
   "name": "python",
   "nbconvert_exporter": "python",
   "pygments_lexer": "ipython3",
   "version": "3.10.12"
  }
 },
 "nbformat": 4,
 "nbformat_minor": 2
}
