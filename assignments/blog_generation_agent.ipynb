{
 "cells": [
  {
   "cell_type": "markdown",
   "metadata": {},
   "source": [
    "## Import libraries"
   ]
  },
  {
   "cell_type": "code",
   "execution_count": 2,
   "metadata": {},
   "outputs": [],
   "source": [
    "from typing_extensions import TypedDict\n",
    "\n",
    "class State(TypedDict):\n",
    "    topic:str\n",
    "    title:str\n",
    "    content_summary:str\n"
   ]
  },
  {
   "cell_type": "code",
   "execution_count": 3,
   "metadata": {},
   "outputs": [
    {
     "data": {
      "text/plain": [
       "True"
      ]
     },
     "execution_count": 3,
     "metadata": {},
     "output_type": "execute_result"
    }
   ],
   "source": [
    "from typing_extensions import TypedDict\n",
    "\n",
    "from langgraph.graph import StateGraph, START, END\n",
    "import os\n",
    "from dotenv import load_dotenv\n",
    "from IPython.display import Image, display\n",
    "load_dotenv()"
   ]
  },
  {
   "cell_type": "code",
   "execution_count": 24,
   "metadata": {},
   "outputs": [
    {
     "data": {
      "text/plain": [
       "AIMessage(content='Hello! How can I assist you today?', additional_kwargs={}, response_metadata={'token_usage': {'completion_tokens': 10, 'prompt_tokens': 30, 'total_tokens': 40, 'completion_time': 0.05, 'prompt_time': 0.003727075, 'queue_time': 0.235266362, 'total_time': 0.053727075}, 'model_name': 'qwen-2.5-32b', 'system_fingerprint': 'fp_35f92f8282', 'finish_reason': 'stop', 'logprobs': None}, id='run-626ce3db-5c5a-44fa-8fb2-ba41f1b2aa51-0', usage_metadata={'input_tokens': 30, 'output_tokens': 10, 'total_tokens': 40})"
      ]
     },
     "execution_count": 24,
     "metadata": {},
     "output_type": "execute_result"
    }
   ],
   "source": [
    "from langchain_groq import ChatGroq\n",
    "\n",
    "#os.environ[\"OPENAI_API_KEY\"]=os.getenv(\"OPENAI_API_KEY\")\n",
    "os.environ[\"GROQ_API_KEY\"]=os.getenv(\"GROQ_API_KEY\")\n",
    "\n",
    "\n",
    "llm=ChatGroq(model=\"qwen-2.5-32b\")\n",
    "#llm = ChatOpenAI(model=\"gpt-4o\")\n",
    "result=llm.invoke(\"Hello\")\n",
    "result\n"
   ]
  },
  {
   "cell_type": "code",
   "execution_count": 4,
   "metadata": {},
   "outputs": [
    {
     "ename": "NameError",
     "evalue": "name 'State' is not defined",
     "output_type": "error",
     "traceback": [
      "\u001b[0;31m---------------------------------------------------------------------------\u001b[0m",
      "\u001b[0;31mNameError\u001b[0m                                 Traceback (most recent call last)",
      "Cell \u001b[0;32mIn[4], line 1\u001b[0m\n\u001b[0;32m----> 1\u001b[0m \u001b[38;5;28;01mdef\u001b[39;00m\u001b[38;5;250m \u001b[39m\u001b[38;5;21mgenerate_title\u001b[39m(state:\u001b[43mState\u001b[49m):\n\u001b[1;32m      2\u001b[0m \u001b[38;5;250m    \u001b[39m\u001b[38;5;124;03m\"\"\" LLM call to generate the title based on the given topic\"\"\"\u001b[39;00m\n\u001b[1;32m      3\u001b[0m     msg\u001b[38;5;241m=\u001b[39mllm\u001b[38;5;241m.\u001b[39minvoke(\u001b[38;5;124mf\u001b[39m\u001b[38;5;124m\"\u001b[39m\u001b[38;5;124mGenerate a title based on topic\u001b[39m\u001b[38;5;132;01m{\u001b[39;00mstate[\u001b[38;5;124m'\u001b[39m\u001b[38;5;124mtopic\u001b[39m\u001b[38;5;124m'\u001b[39m]\u001b[38;5;132;01m}\u001b[39;00m\u001b[38;5;124m\"\u001b[39m)\n",
      "\u001b[0;31mNameError\u001b[0m: name 'State' is not defined"
     ]
    }
   ],
   "source": [
    "def generate_title(state:State):\n",
    "    \"\"\" LLM call to generate the title based on the given topic\"\"\"\n",
    "    msg=llm.invoke(f\"Generate a title based on topic{state['topic']}\")\n",
    "    return {'title':msg.content}"
   ]
  },
  {
   "cell_type": "code",
   "execution_count": 12,
   "metadata": {},
   "outputs": [],
   "source": [
    "def generate_content(state:State):\n",
    "    \"\"\"Generate the conent based on the given title\"\"\"\n",
    "    msg=llm.invoke(f\"Generate a 500 word content on the title{state['title']}\")\n",
    "    return {'content_summary':msg.content}"
   ]
  },
  {
   "cell_type": "code",
   "execution_count": 13,
   "metadata": {},
   "outputs": [],
   "source": [
    "## build the workflow graph\n",
    "\n",
    "workflow= StateGraph(State)"
   ]
  },
  {
   "cell_type": "code",
   "execution_count": 14,
   "metadata": {},
   "outputs": [
    {
     "data": {
      "image/png": "[encoded data removed]",
      "text/plain": [
       "<IPython.core.display.Image object>"
      ]
     },
     "metadata": {},
     "output_type": "display_data"
    }
   ],
   "source": [
    "workflow.add_node(\"generate_title\",generate_title)\n",
    "workflow.add_node(\"generate_content\",generate_content)\n",
    "\n",
    "workflow.add_edge(START,\"generate_title\")\n",
    "workflow.add_edge(\"generate_title\",\"generate_content\")\n",
    "workflow.add_edge(\"generate_content\",END)\n",
    "\n",
    "## compile\n",
    "\n",
    "chain=workflow.compile()\n",
    "\n",
    "# Show workflow\n",
    "display(Image(chain.get_graph().draw_mermaid_png()))\n"
   ]
  },
  {
   "cell_type": "code",
   "execution_count": 15,
   "metadata": {},
   "outputs": [
    {
     "data": {
      "text/plain": [
       "{'topic': 'Agentic AI',\n",
       " 'title': '\"Unlocking the Future: The Power and Ethics of Agentic AI\"',\n",
       " 'content_summary': \"Title: Unlocking the Future: The Power and Ethics of Agentic AI\\n\\nAs technology continues to evolve, Artificial Intelligence (AI) stands at the forefront of innovation, promising to revolutionize industries, enhance human capabilities, and solve complex problems. Among the various forms of AI, agentic AI, characterized by its autonomous decision-making and goal-directed behavior, holds particular promise. This type of AI is designed to operate independently, learning from its environment and making decisions to achieve specific goals, much like a human agent. While the potential benefits of agentic AI are vast, they come hand in hand with a myriad of ethical considerations that must be addressed to ensure the technology's responsible and beneficial development.\\n\\n### The Power of Agentic AI\\n\\nAgentic AI's ability to learn, adapt, and make decisions autonomously empowers it to handle complex tasks and environments that were previously beyond the reach of traditional AI. In healthcare, for instance, agentic AI could revolutionize patient care by continuously monitoring and analyzing patient data to predict and prevent health crises. In the realm of space exploration, agentic AI could navigate and make decisions on long-term missions, adapting to unforeseen circumstances without human intervention. This capability not only enhances operational efficiency but also opens up new frontiers in research and discovery.\\n\\nMoreover, agentic AI can drive innovation in industries such as finance, where it can analyze market trends in real-time, make trade decisions, and adjust strategies based on dynamic market conditions. This not only enhances profitability but also reduces risk through predictive analysis and rapid decision-making.\\n\\n### Ethical Considerations\\n\\nDespite its potential, agentic AI's autonomous nature raises significant ethical concerns. One of the primary issues is the accountability of AI's decisions. When an agentic AI makes a decision, who is to blame if the outcome is detrimental? This question is particularly pertinent in critical areas such as healthcare and finance, where the consequences of AI decisions can be life-altering.\\n\\nPrivacy is another critical concern. Agentic AI often requires a vast amount of data to learn and make informed decisions. This necessitates stringent measures to protect personal data, ensuring that the benefits of AI do not come at the cost of individual privacy.\\n\\nThe potential for bias is a significant ethical hurdle. AI systems can inadvertently perpetuate or even exacerbate existing societal biases present in the data used to train them. It's crucial to develop these systems with fairness and non-discrimination at their core, ensuring that AI is a force for good that benefits all segments of society.\\n\\nLastly, there's the existential risk associated with highly advanced agentic AI. As these systems become more autonomous, the potential for them to act in ways that are harmful to humanity grows. This includes the risk of AI systems being misused or manipulated to cause harm, underscoring the need for robust security protocols and ethical guidelines.\\n\\n### Navigating the Future\\n\\nTo unlock the full potential of agentic AI while addressing its ethical challenges, a multi-faceted approach is necessary. First, developing transparent and explainable AI systems is crucial to building trust and understanding the decision-making processes of AI. This transparency can help in identifying and rectifying biases and improving accountability.\\n\\nSecond, fostering interdisciplinary collaborations between technologists, ethicists, and policymakers is essential. Such collaborations can help in crafting ethical guidelines and regulations that ensure AI's development and deployment are in the best interest of society.\\n\\nFinally, promoting public awareness and education about AI can help demystify the technology and ensure that its benefits are understood and its risks are mitigated. Engaging stakeholders in ongoing dialogue about AI's development and its societal impacts is key to ensuring that the technology evolves ethically and responsibly.\\n\\nIn conclusion, agentic AI presents a transformative opportunity to enhance human capabilities and solve some of our most pressing challenges. However, it is imperative that we navigate its development with a strong ethical compass, ensuring that the power of agentic AI is harnessed for the betterment of all.\"}"
      ]
     },
     "execution_count": 15,
     "metadata": {},
     "output_type": "execute_result"
    }
   ],
   "source": [
    "state = chain.invoke({\"topic\": \"Agentic AI\"})\n",
    "state"
   ]
  },
  {
   "cell_type": "code",
   "execution_count": 20,
   "metadata": {},
   "outputs": [
    {
     "name": "stdout",
     "output_type": "stream",
     "text": [
      "Topic: Agentic AI\n",
      "Title: Unlocking the Future: The Power and Ethics of Agentic AI\n",
      "\n",
      "As technology continues to evolve, Artificial Intelligence (AI) stands at the forefront of innovation, promising to revolutionize industries, enhance human capabilities, and solve complex problems. Among the various forms of AI, agentic AI, characterized by its autonomous decision-making and goal-directed behavior, holds particular promise. This type of AI is designed to operate independently, learning from its environment and making decisions to achieve specific goals, much like a human agent. While the potential benefits of agentic AI are vast, they come hand in hand with a myriad of ethical considerations that must be addressed to ensure the technology's responsible and beneficial development.\n",
      "\n",
      "### The Power of Agentic AI\n",
      "\n",
      "Agentic AI's ability to learn, adapt, and make decisions autonomously empowers it to handle complex tasks and environments that were previously beyond the reach of traditional AI. In healthcare, for instance, agentic AI could revolutionize patient care by continuously monitoring and analyzing patient data to predict and prevent health crises. In the realm of space exploration, agentic AI could navigate and make decisions on long-term missions, adapting to unforeseen circumstances without human intervention. This capability not only enhances operational efficiency but also opens up new frontiers in research and discovery.\n",
      "\n",
      "Moreover, agentic AI can drive innovation in industries such as finance, where it can analyze market trends in real-time, make trade decisions, and adjust strategies based on dynamic market conditions. This not only enhances profitability but also reduces risk through predictive analysis and rapid decision-making.\n",
      "\n",
      "### Ethical Considerations\n",
      "\n",
      "Despite its potential, agentic AI's autonomous nature raises significant ethical concerns. One of the primary issues is the accountability of AI's decisions. When an agentic AI makes a decision, who is to blame if the outcome is detrimental? This question is particularly pertinent in critical areas such as healthcare and finance, where the consequences of AI decisions can be life-altering.\n",
      "\n",
      "Privacy is another critical concern. Agentic AI often requires a vast amount of data to learn and make informed decisions. This necessitates stringent measures to protect personal data, ensuring that the benefits of AI do not come at the cost of individual privacy.\n",
      "\n",
      "The potential for bias is a significant ethical hurdle. AI systems can inadvertently perpetuate or even exacerbate existing societal biases present in the data used to train them. It's crucial to develop these systems with fairness and non-discrimination at their core, ensuring that AI is a force for good that benefits all segments of society.\n",
      "\n",
      "Lastly, there's the existential risk associated with highly advanced agentic AI. As these systems become more autonomous, the potential for them to act in ways that are harmful to humanity grows. This includes the risk of AI systems being misused or manipulated to cause harm, underscoring the need for robust security protocols and ethical guidelines.\n",
      "\n",
      "### Navigating the Future\n",
      "\n",
      "To unlock the full potential of agentic AI while addressing its ethical challenges, a multi-faceted approach is necessary. First, developing transparent and explainable AI systems is crucial to building trust and understanding the decision-making processes of AI. This transparency can help in identifying and rectifying biases and improving accountability.\n",
      "\n",
      "Second, fostering interdisciplinary collaborations between technologists, ethicists, and policymakers is essential. Such collaborations can help in crafting ethical guidelines and regulations that ensure AI's development and deployment are in the best interest of society.\n",
      "\n",
      "Finally, promoting public awareness and education about AI can help demystify the technology and ensure that its benefits are understood and its risks are mitigated. Engaging stakeholders in ongoing dialogue about AI's development and its societal impacts is key to ensuring that the technology evolves ethically and responsibly.\n",
      "\n",
      "In conclusion, agentic AI presents a transformative opportunity to enhance human capabilities and solve some of our most pressing challenges. However, it is imperative that we navigate its development with a strong ethical compass, ensuring that the power of agentic AI is harnessed for the betterment of all.\n"
     ]
    }
   ],
   "source": [
    "print(\"Topic:\",state['topic'])\n",
    "print(state['content_summary'])"
   ]
  },
  {
   "cell_type": "markdown",
   "metadata": {},
   "source": [
    "## Parallel execution"
   ]
  },
  {
   "cell_type": "code",
   "execution_count": 24,
   "metadata": {},
   "outputs": [],
   "source": [
    "class State(TypedDict):\n",
    "    topic:str\n",
    "    title:str\n",
    "    content_summary:str\n",
    "    combined_output:str\n"
   ]
  },
  {
   "cell_type": "code",
   "execution_count": 21,
   "metadata": {},
   "outputs": [],
   "source": [
    "def generate_title(state:State):\n",
    "    \"\"\" LLM call to generate the title based on the given topic\"\"\"\n",
    "    msg=llm.invoke(f\"Generate a title based on topic{state['topic']}\")\n",
    "    return {'title':msg.content}"
   ]
  },
  {
   "cell_type": "code",
   "execution_count": 22,
   "metadata": {},
   "outputs": [],
   "source": [
    "def generate_content_(state:State):\n",
    "    \"\"\"Generate the conent based on the given title\"\"\"\n",
    "    msg=llm.invoke(f\"Generate a 500 word content on the title{state['topic']}\")\n",
    "    return {'content_summary':msg.content}"
   ]
  },
  {
   "cell_type": "code",
   "execution_count": null,
   "metadata": {},
   "outputs": [],
   "source": [
    "def aggregator(state:State):\n",
    "    \"\"\"Combine the Title and the content_summary in a single output\"\"\"\n",
    "    combined=f\"Here is the topic{state['topic']}!\\n\\n\"\n",
    "    combined+=f\"Title:{state['title']}\\n\\n\"\n",
    "    combined+=f\"Content:{state['content_summary']}\\n\\n\"\n",
    "    return {\"combined_output\":combined}\n"
   ]
  },
  {
   "cell_type": "code",
   "execution_count": 26,
   "metadata": {},
   "outputs": [
    {
     "data": {
      "image/png": "[encoded data removed]",
      "text/plain": [
       "<IPython.core.display.Image object>"
      ]
     },
     "metadata": {},
     "output_type": "display_data"
    }
   ],
   "source": [
    "workflow=StateGraph(State)\n",
    "\n",
    "workflow.add_node(\"generate_title\",generate_title)\n",
    "workflow.add_node(\"generate_content_\",generate_content_)\n",
    "workflow.add_node(\"aggregator\",aggregator)\n",
    "\n",
    "\n",
    "workflow.add_edge(START,\"generate_title\")\n",
    "workflow.add_edge(START,\"generate_content_\")\n",
    "workflow.add_edge(\"generate_title\",\"aggregator\")\n",
    "workflow.add_edge(\"generate_content_\",\"aggregator\")\n",
    "workflow.add_edge(\"aggregator\",END)\n",
    "\n",
    "chain=workflow.compile()\n",
    "\n",
    "# Show workflow\n",
    "display(Image(chain.get_graph().draw_mermaid_png()))\n"
   ]
  },
  {
   "cell_type": "code",
   "execution_count": 27,
   "metadata": {},
   "outputs": [
    {
     "data": {
      "text/plain": [
       "{'topic': 'Agentic AI',\n",
       " 'title': '\"Unlocking the Potential of Agentic AI: A Journey into Autonomous Decision-Making Technologies\"',\n",
       " 'content_summary': \"Agentic AI, a term often used to describe a level of artificial intelligence that operates with a high degree of autonomy and agency, represents a significant frontier in the field of AI technology. This form of AI can be viewed as an extension of current AI systems, which already perform a wide range of tasks with varying degrees of complexity and independence. However, Agentic AI takes this a step further by incorporating a more holistic approach to decision-making, learning, and adaptation, all while maintaining a level of independence that allows it to operate effectively in diverse and often unpredictable environments.\\n\\nAt the core of Agentic AI is the concept of agency, which refers to the capacity of an entity to act independently and make decisions based on its own goals and objectives. This is not simply about automation or the execution of predefined tasks; instead, it involves the AI system's ability to understand its environment, set goals, and make decisions that are contextually appropriate and adaptive.\\n\\nOne of the most striking features of Agentic AI is its potential to operate in dynamic and complex environments without human intervention. This is particularly relevant in fields such as autonomous vehicles, where the system must continuously assess and respond to its surroundings to ensure safety and efficiency. In healthcare, Agentic AI could potentially assist in diagnosing conditions, recommending treatments, and even performing certain medical procedures, all while continuously learning from new data and outcomes.\\n\\nThe development of Agentic AI also hinges on significant advancements in machine learning and deep learning techniques. These technologies enable AI systems to not only process and analyze vast amounts of data but also to learn from it, improving their performance over time. Moreover, the integration of natural language processing and understanding can enhance the AI's ability to interact with humans in a more intuitive and effective manner, making it a more versatile tool across various applications.\\n\\nHowever, the rise of Agentic AI also raises important ethical and societal questions. The autonomy of these systems means they have the ability to make decisions that could have significant impacts on individuals and society at large. This necessitates a robust framework for accountability, transparency, and ethical guidelines to ensure that the development and deployment of Agentic AI align with societal values and norms.\\n\\nMoreover, as Agentic AI systems become more integrated into everyday life, there is a risk of over-reliance on them. This reliance could lead to decreased human autonomy and the potential for errors or malfunctions to have more severe consequences. Therefore, it is crucial to develop these systems in a way that maintains a balance, ensuring that they enhance human capabilities rather than replace them.\\n\\nThe future of Agentic AI is promising, with potential applications spanning from enhancing personal assistance to revolutionizing industrial processes. However, realizing this potential requires a collaborative effort between technologists, ethicists, policymakers, and the public to navigate the challenges and opportunities that come with such advanced technology.\\n\\nIn conclusion, Agentic AI stands at the intersection of technological innovation and ethical responsibility, presenting both immense opportunities and significant challenges. As we continue to develop and integrate Agentic AI into our lives, it is imperative to approach this technology with a critical and thoughtful mindset, ensuring that its development benefits society as a whole while minimizing potential risks.\",\n",
       " 'combined_output': 'Here is the topicAgentic AI!\\n\\nTitle:\"Unlocking the Potential of Agentic AI: A Journey into Autonomous Decision-Making Technologies\"\\n\\nContent:Agentic AI, a term often used to describe a level of artificial intelligence that operates with a high degree of autonomy and agency, represents a significant frontier in the field of AI technology. This form of AI can be viewed as an extension of current AI systems, which already perform a wide range of tasks with varying degrees of complexity and independence. However, Agentic AI takes this a step further by incorporating a more holistic approach to decision-making, learning, and adaptation, all while maintaining a level of independence that allows it to operate effectively in diverse and often unpredictable environments.\\n\\nAt the core of Agentic AI is the concept of agency, which refers to the capacity of an entity to act independently and make decisions based on its own goals and objectives. This is not simply about automation or the execution of predefined tasks; instead, it involves the AI system\\'s ability to understand its environment, set goals, and make decisions that are contextually appropriate and adaptive.\\n\\nOne of the most striking features of Agentic AI is its potential to operate in dynamic and complex environments without human intervention. This is particularly relevant in fields such as autonomous vehicles, where the system must continuously assess and respond to its surroundings to ensure safety and efficiency. In healthcare, Agentic AI could potentially assist in diagnosing conditions, recommending treatments, and even performing certain medical procedures, all while continuously learning from new data and outcomes.\\n\\nThe development of Agentic AI also hinges on significant advancements in machine learning and deep learning techniques. These technologies enable AI systems to not only process and analyze vast amounts of data but also to learn from it, improving their performance over time. Moreover, the integration of natural language processing and understanding can enhance the AI\\'s ability to interact with humans in a more intuitive and effective manner, making it a more versatile tool across various applications.\\n\\nHowever, the rise of Agentic AI also raises important ethical and societal questions. The autonomy of these systems means they have the ability to make decisions that could have significant impacts on individuals and society at large. This necessitates a robust framework for accountability, transparency, and ethical guidelines to ensure that the development and deployment of Agentic AI align with societal values and norms.\\n\\nMoreover, as Agentic AI systems become more integrated into everyday life, there is a risk of over-reliance on them. This reliance could lead to decreased human autonomy and the potential for errors or malfunctions to have more severe consequences. Therefore, it is crucial to develop these systems in a way that maintains a balance, ensuring that they enhance human capabilities rather than replace them.\\n\\nThe future of Agentic AI is promising, with potential applications spanning from enhancing personal assistance to revolutionizing industrial processes. However, realizing this potential requires a collaborative effort between technologists, ethicists, policymakers, and the public to navigate the challenges and opportunities that come with such advanced technology.\\n\\nIn conclusion, Agentic AI stands at the intersection of technological innovation and ethical responsibility, presenting both immense opportunities and significant challenges. As we continue to develop and integrate Agentic AI into our lives, it is imperative to approach this technology with a critical and thoughtful mindset, ensuring that its development benefits society as a whole while minimizing potential risks.\\n\\n'}"
      ]
     },
     "execution_count": 27,
     "metadata": {},
     "output_type": "execute_result"
    }
   ],
   "source": [
    "state=chain.invoke({\"topic\": \"Agentic AI\"})\n",
    "state"
   ]
  },
  {
   "cell_type": "markdown",
   "metadata": {},
   "source": [
    "## add feedback"
   ]
  },
  {
   "cell_type": "code",
   "execution_count": 116,
   "metadata": {},
   "outputs": [],
   "source": [
    "class State(TypedDict):\n",
    "    topic:str\n",
    "    title:str\n",
    "    content:str\n",
    "    feedback:str\n"
   ]
  },
  {
   "cell_type": "code",
   "execution_count": 117,
   "metadata": {},
   "outputs": [],
   "source": [
    "def generate_title(state:State):\n",
    "    \"\"\" LLM call to generate the title based on the given topic\"\"\" ## doc strings \n",
    "    msg=llm.invoke(f\"Generate a title based on topic{state['topic']}\")\n",
    "    print('Title:',msg.content)\n",
    "    return {'title':msg.content}"
   ]
  },
  {
   "cell_type": "code",
   "execution_count": 118,
   "metadata": {},
   "outputs": [],
   "source": [
    "def generate_content(state:State):\n",
    "    \"\"\"Generate the conent based on the given title\"\"\"\n",
    "    msg=llm.invoke(f\"Generate a 500 word blog content on the title{state['title']}\")\n",
    "    print('Blog content:',msg.content)\n",
    "    return {'content':msg.content}"
   ]
  },
  {
   "cell_type": "code",
   "execution_count": 119,
   "metadata": {},
   "outputs": [],
   "source": [
    "def user_feedback(state:State):\n",
    "    \"\"\"If the user feedback is yes then end the process, if the user feedback is no regenerate the content based on the title\"\"\"\n",
    "    feedback=input('is the content okay if okay type yes or if the content needs improvement give No')\n",
    "    print(feedback)\n",
    "    if feedback=='yes':\n",
    "        return \"yes\"\n",
    "    elif feedback=='No':\n",
    "        return \"No\""
   ]
  },
  {
   "cell_type": "code",
   "execution_count": 120,
   "metadata": {},
   "outputs": [],
   "source": [
    "def new_content(state:State):\n",
    "    msg=llm.invoke(f'Generate a new technical content on title {state['title']}')\n",
    "    return {'content':msg.content}\n"
   ]
  },
  {
   "cell_type": "code",
   "execution_count": 143,
   "metadata": {},
   "outputs": [
    {
     "data": {
      "image/png": "[encoded data removed]",
      "text/plain": [
       "<IPython.core.display.Image object>"
      ]
     },
     "metadata": {},
     "output_type": "display_data"
    }
   ],
   "source": [
    "# System message\n",
    "from langchain_core.messages import AIMessage, HumanMessage, SystemMessage\n",
    "from langgraph.graph import MessagesState\n",
    "from langgraph.checkpoint.memory import MemorySaver\n",
    "\n",
    "\n",
    "\n",
    "# Graph\n",
    "builder = StateGraph(State)\n",
    "\n",
    "builder.add_node(\"generate_title\",generate_title)\n",
    "builder.add_node(\"generate_content\",generate_content)\n",
    "builder.add_node(\"new_content\",new_content)\n",
    "\n",
    "builder.add_edge(START,\"generate_title\")\n",
    "builder.add_edge(\"generate_title\",\"generate_content\")\n",
    "# builder.add_edge(\"generate_content\",\"user_feedback\")\n",
    "\n",
    "# # builder.add_conditional_edges(\"user_feedback\",user_feedback)\n",
    "\n",
    "# builder.add_edge(\"user_feedback\",\"generate_title\")\n",
    "builder.add_conditional_edges(\"generate_content\",user_feedback,{\"No\":\"new_content\",\"yes\":END})\n",
    "builder.add_edge(\"new_content\",END)\n",
    "# builder.add_edge(\"user_feedback\",END)\n",
    "\n",
    "graph=builder.compile()\n",
    "\n",
    "\n",
    "graph = builder.compile()\n",
    "display(Image(graph.get_graph().draw_mermaid_png()))"
   ]
  },
  {
   "cell_type": "code",
   "execution_count": 94,
   "metadata": {},
   "outputs": [
    {
     "name": "stdout",
     "output_type": "stream",
     "text": [
      "Title: \"Exploring the Future of Data Analysis: Advances in Machine Learning\"\n",
      "Blog content: ### Exploring the Future of Data Analysis: Advances in Machine Learning\n",
      "\n",
      "In an era where data is being generated at an unprecedented rate, the field of data analysis has become a pivotal component in driving business insights and technological advancements. At the heart of modern data analysis lies machine learning (ML), a subset of artificial intelligence that enables computers to learn from and make decisions based on data. This blog post explores the current and potential future advancements in machine learning and their implications for data analysis.\n",
      "\n",
      "#### Current State of Machine Learning\n",
      "\n",
      "Machine learning has already made significant strides in transforming how we process and interpret data. With the advent of deep learning, a more sophisticated form of machine learning, models have become capable of handling complex data types such as images, text, and sound with remarkable accuracy. Deep learning techniques, particularly neural networks, have revolutionized fields such as healthcare, finance, and autonomous driving, by enabling sophisticated pattern recognition and predictive modeling.\n",
      "\n",
      "However, the current state of machine learning also comes with challenges. One major issue is the need for large datasets to train these models effectively. The reliance on big data often means that the insights derived may not always be applicable to smaller or less diverse datasets. Additionally, the \"black box\" nature of many ML models, where the decision-making process is not easily interpretable, poses a significant challenge in terms of trust and regulatory compliance.\n",
      "\n",
      "#### Future Directions in Machine Learning\n",
      "\n",
      "Looking ahead, the future of machine learning is promising and will likely focus on addressing many of the current limitations while advancing new methodologies and applications.\n",
      "\n",
      "1. **Enhanced Interpretability and Explainability**: One of the key areas of development will be the creation of more transparent models. Techniques such as LIME (Local Interpretable Model-agnostic Explanations) and SHAP (SHapley Additive exPlanations) are already making strides in this area, but there is a need for more scalable, user-friendly methods that can be applied across various industries.\n",
      "\n",
      "2. **Transfer Learning and Few-Shot Learning**: Transfer learning involves using a pre-trained model on one task and fine-tuning it for a different but related task. This approach can significantly reduce the amount of data and computational resources needed. Similarly, few-shot learning will enable models to learn effectively from a small number of examples, making ML more accessible and applicable to niche or underserved markets.\n",
      "\n",
      "3. **Autonomous Machine Learning (AutoML)**: AutoML is the process of automating the end-to-end process of applying machine learning to real-world problems. This includes automated data cleaning, feature engineering, model selection, and hyperparameter tuning. The aim is to make the benefits of ML more accessible to those without extensive technical knowledge, thereby democratizing the technology.\n",
      "\n",
      "4. **Integration with Quantum Computing**: While still in its infancy, quantum computing holds the potential to drastically speed up certain types of computations, which could revolutionize the field of data analysis. Quantum machine learning algorithms could handle much larger datasets and more complex models than classical computers, potentially leading to breakthroughs in areas like drug discovery and complex system simulation.\n",
      "\n",
      "5. **Ethical Considerations and Fairness**: As ML becomes more integrated into our daily lives, there is a growing emphasis on ensuring that these systems are fair, unbiased, and transparent. Future advancements will likely include more robust methods to detect and mitigate biases in algorithms, ensuring that ML systems do not perpetuate societal inequalities.\n",
      "\n",
      "#### Conclusion\n",
      "\n",
      "The future of data analysis through machine learning is set to be transformative. As we continue to refine our techniques and algorithms, the promise is an even more powerful tool for extracting meaningful insights from data. The challenges, particularly around interpretability and ethical considerations, will need to be addressed to ensure that these technologies are used responsibly and effectively. The coming years will be exciting as we witness how these advancements in machine learning will shape our world, making data analysis not just a means of understanding past and present, but also of predicting and shaping the future.\n",
      "No\n"
     ]
    },
    {
     "data": {
      "text/plain": [
       "{'topic': 'Machine Learning',\n",
       " 'title': '\"Exploring the Future of Data Analysis: Advances in Machine Learning\"',\n",
       " 'content': '### Exploring the Future of Data Analysis: Advances in Machine Learning\\n\\nIn the digital age, data analysis has transformed from a niche practice to a critical component of decision-making in various industries. The evolution of machine learning (ML) technologies has significantly influenced the landscape of data analysis, bringing about new possibilities for understanding complex data sets, predicting trends, and automating insights. This article explores the future of data analysis, focusing on the recent advances in machine learning that are shaping this transformation.\\n\\n#### The Convergence of Big Data and Machine Learning\\n\\nThe advent of big data has created an unprecedented need for sophisticated analytical tools that can process, interpret, and make predictions based on massive volumes of data. Machine learning algorithms, particularly those based on deep learning, are perfectly positioned to meet this challenge. These algorithms can automatically discover complex patterns in large datasets, which traditional statistical methods might overlook.\\n\\n#### Real-Time Analytics and the Role of Edge Computing\\n\\nOne of the most promising areas in the future of data analysis is the ability to perform real-time analytics. This capability is increasingly important in industries like finance, healthcare, and retail, where timely insights can make a significant difference. Edge computing plays a crucial role in enabling real-time analytics by processing data closer to where it is generated, thereby reducing latency and improving response times. Machine learning models are being deployed at the edge to enable real-time decision-making without the need for data to be sent to a central server for processing.\\n\\n#### The Rise of Explainable AI\\n\\nAs machine learning models become more complex and their applications more widespread, there is a growing demand for these models to be transparent and explainable. Explainable AI (XAI) addresses this challenge by creating models that not only make accurate predictions but also provide insights into the reasoning behind these predictions. This is critical for building trust among users and stakeholders, especially in regulated industries where model transparency is often required.\\n\\n#### Ethical Considerations and Bias Mitigation\\n\\nThe use of machine learning in data analysis also brings to the fore ethical considerations, particularly the issue of bias. Machine learning models can inadvertently perpetuate and even exacerbate existing biases if the datasets they are trained on are not representative of the real-world populations they are meant to serve. Future advancements in data analysis will involve developing methodologies to detect and mitigate bias, ensuring that ML models are fair and do not discriminate against any group.\\n\\n#### Integration of AI and Human Intelligence\\n\\nAnother key trend in the future of data analysis is the integration of artificial intelligence with human intelligence. While machine learning models can automate the analysis of vast amounts of data, human intuition and creativity remain invaluable. Future data analysis systems are likely to leverage AI to handle routine and repetitive tasks, while human analysts focus on more complex, strategic decision-making. This hybrid approach could lead to more innovative and accurate insights.\\n\\n#### Conclusion\\n\\nThe future of data analysis is exciting and full of possibilities, largely driven by the rapid advancements in machine learning. From enabling real-time analytics and edge computing to ensuring the transparency and fairness of AI models, these developments promise to revolutionize how we understand and utilize data. As we continue to develop more sophisticated machine learning models and integrate them into our analytical processes, the potential for driving innovation and growth across various sectors is immense.\\n\\nHowever, it is also important to consider the ethical implications and the need for continuous oversight to ensure that these technologies are used responsibly and for the betterment of society. The journey towards harnessing the full potential of machine learning in data analysis is ongoing, and staying abreast of these advancements is crucial for all stakeholders in the data science community.'}"
      ]
     },
     "execution_count": 94,
     "metadata": {},
     "output_type": "execute_result"
    }
   ],
   "source": [
    "state = graph.invoke({\"topic\": \"Machine Learning\"})\n",
    "state"
   ]
  },
  {
   "cell_type": "code",
   "execution_count": 95,
   "metadata": {},
   "outputs": [
    {
     "name": "stdout",
     "output_type": "stream",
     "text": [
      "### Exploring the Future of Data Analysis: Advances in Machine Learning\n",
      "\n",
      "In the digital age, data analysis has transformed from a niche practice to a critical component of decision-making in various industries. The evolution of machine learning (ML) technologies has significantly influenced the landscape of data analysis, bringing about new possibilities for understanding complex data sets, predicting trends, and automating insights. This article explores the future of data analysis, focusing on the recent advances in machine learning that are shaping this transformation.\n",
      "\n",
      "#### The Convergence of Big Data and Machine Learning\n",
      "\n",
      "The advent of big data has created an unprecedented need for sophisticated analytical tools that can process, interpret, and make predictions based on massive volumes of data. Machine learning algorithms, particularly those based on deep learning, are perfectly positioned to meet this challenge. These algorithms can automatically discover complex patterns in large datasets, which traditional statistical methods might overlook.\n",
      "\n",
      "#### Real-Time Analytics and the Role of Edge Computing\n",
      "\n",
      "One of the most promising areas in the future of data analysis is the ability to perform real-time analytics. This capability is increasingly important in industries like finance, healthcare, and retail, where timely insights can make a significant difference. Edge computing plays a crucial role in enabling real-time analytics by processing data closer to where it is generated, thereby reducing latency and improving response times. Machine learning models are being deployed at the edge to enable real-time decision-making without the need for data to be sent to a central server for processing.\n",
      "\n",
      "#### The Rise of Explainable AI\n",
      "\n",
      "As machine learning models become more complex and their applications more widespread, there is a growing demand for these models to be transparent and explainable. Explainable AI (XAI) addresses this challenge by creating models that not only make accurate predictions but also provide insights into the reasoning behind these predictions. This is critical for building trust among users and stakeholders, especially in regulated industries where model transparency is often required.\n",
      "\n",
      "#### Ethical Considerations and Bias Mitigation\n",
      "\n",
      "The use of machine learning in data analysis also brings to the fore ethical considerations, particularly the issue of bias. Machine learning models can inadvertently perpetuate and even exacerbate existing biases if the datasets they are trained on are not representative of the real-world populations they are meant to serve. Future advancements in data analysis will involve developing methodologies to detect and mitigate bias, ensuring that ML models are fair and do not discriminate against any group.\n",
      "\n",
      "#### Integration of AI and Human Intelligence\n",
      "\n",
      "Another key trend in the future of data analysis is the integration of artificial intelligence with human intelligence. While machine learning models can automate the analysis of vast amounts of data, human intuition and creativity remain invaluable. Future data analysis systems are likely to leverage AI to handle routine and repetitive tasks, while human analysts focus on more complex, strategic decision-making. This hybrid approach could lead to more innovative and accurate insights.\n",
      "\n",
      "#### Conclusion\n",
      "\n",
      "The future of data analysis is exciting and full of possibilities, largely driven by the rapid advancements in machine learning. From enabling real-time analytics and edge computing to ensuring the transparency and fairness of AI models, these developments promise to revolutionize how we understand and utilize data. As we continue to develop more sophisticated machine learning models and integrate them into our analytical processes, the potential for driving innovation and growth across various sectors is immense.\n",
      "\n",
      "However, it is also important to consider the ethical implications and the need for continuous oversight to ensure that these technologies are used responsibly and for the betterment of society. The journey towards harnessing the full potential of machine learning in data analysis is ongoing, and staying abreast of these advancements is crucial for all stakeholders in the data science community.\n"
     ]
    }
   ],
   "source": [
    "print(state['content'])"
   ]
  },
  {
   "cell_type": "markdown",
   "metadata": {},
   "source": [
    "## add human feedback"
   ]
  },
  {
   "cell_type": "code",
   "execution_count": 7,
   "metadata": {},
   "outputs": [],
   "source": [
    "class State(TypedDict):\n",
    "    topic:str\n",
    "    title:str\n",
    "    content:str\n",
    "    feedback:str"
   ]
  },
  {
   "cell_type": "code",
   "execution_count": 9,
   "metadata": {},
   "outputs": [],
   "source": [
    "# def human_feedback(state:State):\n",
    "#     \"\"\"If the user feedback is yes then end the process, if the user feedback is no regenerate the content based on the title\"\"\"\n",
    "#     feedback=input('is the content okay if okay type yes or if the content needs improvement give No')\n",
    "#     state['feedback']=feedback\n",
    "#     if feedback=='yes':\n",
    "#         return \"yes\"\n",
    "#     elif feedback==\"No\":\n",
    "#         return \"No\""
   ]
  },
  {
   "cell_type": "code",
   "execution_count": 13,
   "metadata": {},
   "outputs": [],
   "source": [
    "def generate_title(state:State):\n",
    "    \"\"\" LLM call to generate the title based on the given topic\"\"\"\n",
    "    msg=llm.invoke(f\"Generate a title based on topic{state['topic']}\")\n",
    "    return {'title':msg.content}"
   ]
  },
  {
   "cell_type": "code",
   "execution_count": 76,
   "metadata": {},
   "outputs": [],
   "source": [
    "def generate_content_(state:State):\n",
    "    \"\"\"Generate the conent based on the given title and human feedback if human feedback is yes then its a good content if human feedback is no then the content need to regenerate\"\"\"\n",
    "    # if state['feedback']==\"No\":\n",
    "    #     msg=llm.invoke(f\"rewrite the same summary in more good technical content {state['content']}\")\n",
    "    # elif state['feedback']==\"yes\" or state['feedback']==None:\n",
    "    #     msg=llm.invoke(f\"Generate a 100 word blog summary on the title{state['title']}\")\n",
    "    msg=llm.invoke(f\"Generate a 100 word blog summary on the title{state['title']}\")\n",
    "    return {'content_summary':msg.content}"
   ]
  },
  {
   "cell_type": "code",
   "execution_count": 77,
   "metadata": {},
   "outputs": [],
   "source": [
    "from langgraph.types import interrupt,Command\n",
    "\n",
    "# def human_feedback(state: State):\n",
    "#     human_message = interrupt(\"human_input\")\n",
    "#     return {'feedback':human_message}\n",
    "\n",
    "def human_feedback(state:State):\n",
    "    is_approved = interrupt(\n",
    "            {\n",
    "                \"question\": \"Is this correct?\",\n",
    "                # Surface the output that should be\n",
    "                # reviewed and approved by the human.\n",
    "                \"content\": state[\"content\"]\n",
    "            }\n",
    "        )\n",
    "\n",
    "    if is_approved:\n",
    "        return Command(goto=\"generate_content\")\n",
    "    else:\n",
    "        return Command(goto=END)"
   ]
  },
  {
   "cell_type": "code",
   "execution_count": 78,
   "metadata": {},
   "outputs": [
    {
     "data": {
      "image/png": "[encoded data removed]",
      "text/plain": [
       "<IPython.core.display.Image object>"
      ]
     },
     "metadata": {},
     "output_type": "display_data"
    }
   ],
   "source": [
    "# System message\n",
    "from langchain_core.messages import AIMessage, HumanMessage, SystemMessage\n",
    "from langgraph.graph import MessagesState\n",
    "from langgraph.checkpoint.memory import MemorySaver\n",
    "\n",
    "# Graph\n",
    "builder = StateGraph(State)\n",
    "\n",
    "builder.add_node(\"generate_title\",generate_title)\n",
    "builder.add_node(\"generate_content\",generate_content)\n",
    "builder.add_node(\"human_feedback\",human_feedback)\n",
    "\n",
    "\n",
    "builder.add_edge(START,\"generate_title\")\n",
    "builder.add_edge(\"generate_title\",\"generate_content\")\n",
    "builder.add_edge(\"generate_content\",\"human_feedback\")\n",
    "\n",
    "# # builder.add_conditional_edges(\"user_feedback\",user_feedback)\n",
    "\n",
    "builder.add_edge(\"human_feedback\",\"generate_content\")\n",
    "# builder.add_conditional_edges(\"human_feedback\",{\"No\":\"generate_content\",\"yes\":END})\n",
    "builder.add_edge(\"human_feedback\",END)\n",
    "# builder.add_edge(\"user_feedback\",END)\n",
    "memory = MemorySaver()\n",
    "graph=builder.compile(checkpointer=memory)\n",
    "\n",
    "\n",
    "display(Image(graph.get_graph().draw_mermaid_png()))"
   ]
  },
  {
   "cell_type": "code",
   "execution_count": 79,
   "metadata": {},
   "outputs": [],
   "source": [
    "thread_config = {\"configurable\": {\"thread_id\": \"sand\"}}\n",
    "initial_input={\"topic\":HumanMessage(content=\"Agentic AI\")}\n",
    "\n"
   ]
  },
  {
   "cell_type": "code",
   "execution_count": 80,
   "metadata": {},
   "outputs": [
    {
     "name": "stdout",
     "output_type": "stream",
     "text": [
      "{'topic': HumanMessage(content='Agentic AI', additional_kwargs={}, response_metadata={})}\n",
      "{'topic': HumanMessage(content='Agentic AI', additional_kwargs={}, response_metadata={}), 'title': '\"Exploring the Realm of Agentic AI: Autonomy and Intelligence in Technology\"'}\n",
      "Blog content: In the ever-evolving landscape of technology, one concept stands out as particularly transformative and exciting: Agentic Artificial Intelligence (AI). Agentic AI represents a significant leap forward in the capabilities of AI systems, integrating autonomy and intelligence in ways that promise to revolutionize how we interact with technology and how technology can serve us. This blog explores the realm of agentic AI, delving into its definitions, characteristics, and the implications of its development on society and technological progress.\n",
      "\n",
      "### What is Agentic AI?\n",
      "\n",
      "Agentic AI is a subset of AI that emphasizes autonomy and self-determination. Unlike traditional AI systems that operate under strict parameters set by their human creators, agentic AI systems are designed with the ability to make decisions and take actions autonomously, based on their own assessments and goals. This capability is what gives these systems their \"agentic\" nature—acting as agents with a degree of independence and purpose.\n",
      "\n",
      "### Core Characteristics\n",
      "\n",
      "1. **Autonomy**: Agentic AI systems can operate without continuous human intervention. They are capable of setting their own goals and determining the best course of action to achieve them, often learning from past experiences and adapting to new situations.\n",
      "\n",
      "2. **Intelligence**: These systems leverage advanced algorithms and machine learning to process information, understand contexts, and make judgments. They can handle complex tasks that require both analytical and creative thinking.\n",
      "\n",
      "3. **Adaptability**: Agentic AI can adapt to changing environments and learn from interactions, improving their performance and decision-making capabilities over time.\n",
      "\n",
      "4. **Communication**: These systems can communicate effectively with humans and other AI systems, understanding and generating natural language, and using this to facilitate their operations and interactions.\n",
      "\n",
      "### Applications and Implications\n",
      "\n",
      "The potential applications of agentic AI are vast and varied, spanning industries from healthcare and finance to transportation and entertainment. For example, in healthcare, agentic AI could autonomously manage patient care, adjusting treatments based on patient responses and new medical data. In transportation, self-driving cars powered by agentic AI could not only navigate roads safely but also anticipate traffic patterns and adjust their routes to optimize efficiency.\n",
      "\n",
      "However, the rise of agentic AI also raises important questions about ethics, accountability, and the future of human work. As these systems become more autonomous, there is a need to ensure they operate within ethical boundaries and that their actions can be traced and understood by humans. Additionally, as agentic AI systems take over more complex tasks, there is a societal need to address the impact on employment and the skills required for future jobs.\n",
      "\n",
      "### Challenges and Considerations\n",
      "\n",
      "Developing agentic AI is not without its challenges. Ensuring that these systems can operate safely and ethically, without causing harm or making unfair decisions, is a significant hurdle. There is a need for robust testing and validation processes, as well as continuous monitoring and improvement of AI systems to ensure they align with human values.\n",
      "\n",
      "Moreover, the integration of agentic AI into existing systems and processes requires careful consideration. It involves not only technological challenges but also social and organizational changes, necessitating a collaborative approach between technologists, policymakers, and society at large.\n",
      "\n",
      "### Conclusion\n",
      "\n",
      "The realm of agentic AI opens up a new frontier in technology, promising to enhance our lives in ways we are only beginning to understand. As we move forward, it's crucial that we not only develop these technologies but also ensure they are integrated ethically and responsibly. The journey towards achieving agentic AI is one filled with both opportunities and challenges, and it is through thoughtful exploration and collaboration that we can navigate this exciting path forward.\n",
      "{'topic': HumanMessage(content='Agentic AI', additional_kwargs={}, response_metadata={}), 'title': '\"Exploring the Realm of Agentic AI: Autonomy and Intelligence in Technology\"', 'content': 'In the ever-evolving landscape of technology, one concept stands out as particularly transformative and exciting: Agentic Artificial Intelligence (AI). Agentic AI represents a significant leap forward in the capabilities of AI systems, integrating autonomy and intelligence in ways that promise to revolutionize how we interact with technology and how technology can serve us. This blog explores the realm of agentic AI, delving into its definitions, characteristics, and the implications of its development on society and technological progress.\\n\\n### What is Agentic AI?\\n\\nAgentic AI is a subset of AI that emphasizes autonomy and self-determination. Unlike traditional AI systems that operate under strict parameters set by their human creators, agentic AI systems are designed with the ability to make decisions and take actions autonomously, based on their own assessments and goals. This capability is what gives these systems their \"agentic\" nature—acting as agents with a degree of independence and purpose.\\n\\n### Core Characteristics\\n\\n1. **Autonomy**: Agentic AI systems can operate without continuous human intervention. They are capable of setting their own goals and determining the best course of action to achieve them, often learning from past experiences and adapting to new situations.\\n\\n2. **Intelligence**: These systems leverage advanced algorithms and machine learning to process information, understand contexts, and make judgments. They can handle complex tasks that require both analytical and creative thinking.\\n\\n3. **Adaptability**: Agentic AI can adapt to changing environments and learn from interactions, improving their performance and decision-making capabilities over time.\\n\\n4. **Communication**: These systems can communicate effectively with humans and other AI systems, understanding and generating natural language, and using this to facilitate their operations and interactions.\\n\\n### Applications and Implications\\n\\nThe potential applications of agentic AI are vast and varied, spanning industries from healthcare and finance to transportation and entertainment. For example, in healthcare, agentic AI could autonomously manage patient care, adjusting treatments based on patient responses and new medical data. In transportation, self-driving cars powered by agentic AI could not only navigate roads safely but also anticipate traffic patterns and adjust their routes to optimize efficiency.\\n\\nHowever, the rise of agentic AI also raises important questions about ethics, accountability, and the future of human work. As these systems become more autonomous, there is a need to ensure they operate within ethical boundaries and that their actions can be traced and understood by humans. Additionally, as agentic AI systems take over more complex tasks, there is a societal need to address the impact on employment and the skills required for future jobs.\\n\\n### Challenges and Considerations\\n\\nDeveloping agentic AI is not without its challenges. Ensuring that these systems can operate safely and ethically, without causing harm or making unfair decisions, is a significant hurdle. There is a need for robust testing and validation processes, as well as continuous monitoring and improvement of AI systems to ensure they align with human values.\\n\\nMoreover, the integration of agentic AI into existing systems and processes requires careful consideration. It involves not only technological challenges but also social and organizational changes, necessitating a collaborative approach between technologists, policymakers, and society at large.\\n\\n### Conclusion\\n\\nThe realm of agentic AI opens up a new frontier in technology, promising to enhance our lives in ways we are only beginning to understand. As we move forward, it\\'s crucial that we not only develop these technologies but also ensure they are integrated ethically and responsibly. The journey towards achieving agentic AI is one filled with both opportunities and challenges, and it is through thoughtful exploration and collaboration that we can navigate this exciting path forward.'}\n"
     ]
    }
   ],
   "source": [
    "for event in graph.stream(initial_input,thread_config,stream_mode=\"values\"):\n",
    "    print(event)"
   ]
  },
  {
   "cell_type": "code",
   "execution_count": 81,
   "metadata": {},
   "outputs": [
    {
     "name": "stdout",
     "output_type": "stream",
     "text": [
      "In the ever-evolving landscape of technology, one concept stands out as particularly transformative and exciting: Agentic Artificial Intelligence (AI). Agentic AI represents a significant leap forward in the capabilities of AI systems, integrating autonomy and intelligence in ways that promise to revolutionize how we interact with technology and how technology can serve us. This blog explores the realm of agentic AI, delving into its definitions, characteristics, and the implications of its development on society and technological progress.\n",
      "\n",
      "### What is Agentic AI?\n",
      "\n",
      "Agentic AI is a subset of AI that emphasizes autonomy and self-determination. Unlike traditional AI systems that operate under strict parameters set by their human creators, agentic AI systems are designed with the ability to make decisions and take actions autonomously, based on their own assessments and goals. This capability is what gives these systems their \"agentic\" nature—acting as agents with a degree of independence and purpose.\n",
      "\n",
      "### Core Characteristics\n",
      "\n",
      "1. **Autonomy**: Agentic AI systems can operate without continuous human intervention. They are capable of setting their own goals and determining the best course of action to achieve them, often learning from past experiences and adapting to new situations.\n",
      "\n",
      "2. **Intelligence**: These systems leverage advanced algorithms and machine learning to process information, understand contexts, and make judgments. They can handle complex tasks that require both analytical and creative thinking.\n",
      "\n",
      "3. **Adaptability**: Agentic AI can adapt to changing environments and learn from interactions, improving their performance and decision-making capabilities over time.\n",
      "\n",
      "4. **Communication**: These systems can communicate effectively with humans and other AI systems, understanding and generating natural language, and using this to facilitate their operations and interactions.\n",
      "\n",
      "### Applications and Implications\n",
      "\n",
      "The potential applications of agentic AI are vast and varied, spanning industries from healthcare and finance to transportation and entertainment. For example, in healthcare, agentic AI could autonomously manage patient care, adjusting treatments based on patient responses and new medical data. In transportation, self-driving cars powered by agentic AI could not only navigate roads safely but also anticipate traffic patterns and adjust their routes to optimize efficiency.\n",
      "\n",
      "However, the rise of agentic AI also raises important questions about ethics, accountability, and the future of human work. As these systems become more autonomous, there is a need to ensure they operate within ethical boundaries and that their actions can be traced and understood by humans. Additionally, as agentic AI systems take over more complex tasks, there is a societal need to address the impact on employment and the skills required for future jobs.\n",
      "\n",
      "### Challenges and Considerations\n",
      "\n",
      "Developing agentic AI is not without its challenges. Ensuring that these systems can operate safely and ethically, without causing harm or making unfair decisions, is a significant hurdle. There is a need for robust testing and validation processes, as well as continuous monitoring and improvement of AI systems to ensure they align with human values.\n",
      "\n",
      "Moreover, the integration of agentic AI into existing systems and processes requires careful consideration. It involves not only technological challenges but also social and organizational changes, necessitating a collaborative approach between technologists, policymakers, and society at large.\n",
      "\n",
      "### Conclusion\n",
      "\n",
      "The realm of agentic AI opens up a new frontier in technology, promising to enhance our lives in ways we are only beginning to understand. As we move forward, it's crucial that we not only develop these technologies but also ensure they are integrated ethically and responsibly. The journey towards achieving agentic AI is one filled with both opportunities and challenges, and it is through thoughtful exploration and collaboration that we can navigate this exciting path forward.\n"
     ]
    }
   ],
   "source": [
    "print(event['content'])"
   ]
  },
  {
   "cell_type": "code",
   "execution_count": 82,
   "metadata": {},
   "outputs": [
    {
     "data": {
      "text/plain": [
       "('human_feedback',)"
      ]
     },
     "execution_count": 82,
     "metadata": {},
     "output_type": "execute_result"
    }
   ],
   "source": [
    "state=graph.get_state(thread_config)\n",
    "state.next"
   ]
  },
  {
   "cell_type": "code",
   "execution_count": 94,
   "metadata": {},
   "outputs": [
    {
     "name": "stdout",
     "output_type": "stream",
     "text": [
      "Blog content: In the rapidly evolving landscape of technology, artificial intelligence (AI) has taken center stage, revolutionizing the way we interact with machines and each other. Among the myriad of AI advancements, one particular subset has garnered significant attention for its potential to redefine the capabilities of technology: agentic AI. This form of AI is characterized by its autonomy and intelligence, two qualities that propel it into a realm where it can operate independently with a level of competence that closely mimics human decision-making and problem-solving.\n",
      "\n",
      "### The Essence of Agentic AI\n",
      "\n",
      "At its core, agentic AI is designed to possess agency, the ability to act independently and make decisions that are not solely based on pre-programmed instructions. This form of AI is not just a passive tool; it is a proactive entity that can learn, adapt, and evolve based on the environment it operates in and the tasks it performs. The intelligence embedded within agentic AI allows it to process complex data, understand context, and make decisions that can significantly impact the outcomes of its operations.\n",
      "\n",
      "### Autonomy in Action\n",
      "\n",
      "Autonomy is a critical feature of agentic AI, allowing it to function without constant human intervention. This is particularly beneficial in scenarios where quick decision-making is essential, or where the environment is dynamic and unpredictable. For instance, in the realm of autonomous vehicles, agentic AI systems can navigate through traffic, avoid obstacles, and adjust to changing weather conditions, all while maintaining a high level of safety and efficiency.\n",
      "\n",
      "### Intelligence Beyond Tasks\n",
      "\n",
      "While autonomy is crucial, the intelligence behind agentic AI is what truly sets it apart. This intelligence is not confined to performing specific tasks but extends to learning from experiences and applying that knowledge to new situations. Machine learning algorithms, particularly deep learning, are pivotal in enabling agentic AI to comprehend, adapt, and improve over time. These systems can recognize patterns, understand language, and even predict future trends based on historical data, making them incredibly versatile and powerful tools across various industries.\n",
      "\n",
      "### Challenges and Ethical Considerations\n",
      "\n",
      "Despite its promise, the development and deployment of agentic AI are not without challenges. One of the most pressing concerns is ensuring that these systems operate ethically and responsibly. As agentic AI systems become more autonomous, the need for robust governance frameworks and ethical guidelines becomes paramount. Issues such as bias in AI, privacy concerns, and the potential for misuse must be addressed to ensure that these technologies contribute positively to society.\n",
      "\n",
      "### Future Implications\n",
      "\n",
      "The implications of agentic AI extend far beyond the realms of technology and into the socioeconomic fabric of our society. As these systems become more integrated into daily life, they have the potential to reshape industries, create new job roles, and even influence social dynamics. However, their true impact will be determined by how well these systems can be aligned with human values and societal needs.\n",
      "\n",
      "### Conclusion\n",
      "\n",
      "Agentic AI stands at the forefront of technological innovation, pushing the boundaries of what machines can achieve. Its ability to act autonomously, coupled with its advanced learning capabilities, positions it as a pivotal force in the technological revolution. However, as we move forward, it is crucial to balance the pursuit of technological advancement with ethical considerations. By doing so, we can harness the power of agentic AI to build a future where technology not only serves us but also enhances our collective well-being.\n",
      "\n",
      "As we continue to explore the realms of agentic AI, one thing is clear: the potential for this technology to transform our world is immense. Whether it's enhancing healthcare, improving disaster response, or simply making our daily lives more convenient, agentic AI is set to play a crucial role in shaping the future. The journey ahead is one of innovation, but it also calls for wisdom and responsibility as we integrate these powerful tools into our lives.\n",
      "In the rapidly evolving landscape of technology, artificial intelligence (AI) has taken center stage, revolutionizing the way we interact with machines and each other. Among the myriad of AI advancements, one particular subset has garnered significant attention for its potential to redefine the capabilities of technology: agentic AI. This form of AI is characterized by its autonomy and intelligence, two qualities that propel it into a realm where it can operate independently with a level of competence that closely mimics human decision-making and problem-solving.\n",
      "\n",
      "### The Essence of Agentic AI\n",
      "\n",
      "At its core, agentic AI is designed to possess agency, the ability to act independently and make decisions that are not solely based on pre-programmed instructions. This form of AI is not just a passive tool; it is a proactive entity that can learn, adapt, and evolve based on the environment it operates in and the tasks it performs. The intelligence embedded within agentic AI allows it to process complex data, understand context, and make decisions that can significantly impact the outcomes of its operations.\n",
      "\n",
      "### Autonomy in Action\n",
      "\n",
      "Autonomy is a critical feature of agentic AI, allowing it to function without constant human intervention. This is particularly beneficial in scenarios where quick decision-making is essential, or where the environment is dynamic and unpredictable. For instance, in the realm of autonomous vehicles, agentic AI systems can navigate through traffic, avoid obstacles, and adjust to changing weather conditions, all while maintaining a high level of safety and efficiency.\n",
      "\n",
      "### Intelligence Beyond Tasks\n",
      "\n",
      "While autonomy is crucial, the intelligence behind agentic AI is what truly sets it apart. This intelligence is not confined to performing specific tasks but extends to learning from experiences and applying that knowledge to new situations. Machine learning algorithms, particularly deep learning, are pivotal in enabling agentic AI to comprehend, adapt, and improve over time. These systems can recognize patterns, understand language, and even predict future trends based on historical data, making them incredibly versatile and powerful tools across various industries.\n",
      "\n",
      "### Challenges and Ethical Considerations\n",
      "\n",
      "Despite its promise, the development and deployment of agentic AI are not without challenges. One of the most pressing concerns is ensuring that these systems operate ethically and responsibly. As agentic AI systems become more autonomous, the need for robust governance frameworks and ethical guidelines becomes paramount. Issues such as bias in AI, privacy concerns, and the potential for misuse must be addressed to ensure that these technologies contribute positively to society.\n",
      "\n",
      "### Future Implications\n",
      "\n",
      "The implications of agentic AI extend far beyond the realms of technology and into the socioeconomic fabric of our society. As these systems become more integrated into daily life, they have the potential to reshape industries, create new job roles, and even influence social dynamics. However, their true impact will be determined by how well these systems can be aligned with human values and societal needs.\n",
      "\n",
      "### Conclusion\n",
      "\n",
      "Agentic AI stands at the forefront of technological innovation, pushing the boundaries of what machines can achieve. Its ability to act autonomously, coupled with its advanced learning capabilities, positions it as a pivotal force in the technological revolution. However, as we move forward, it is crucial to balance the pursuit of technological advancement with ethical considerations. By doing so, we can harness the power of agentic AI to build a future where technology not only serves us but also enhances our collective well-being.\n",
      "\n",
      "As we continue to explore the realms of agentic AI, one thing is clear: the potential for this technology to transform our world is immense. Whether it's enhancing healthcare, improving disaster response, or simply making our daily lives more convenient, agentic AI is set to play a crucial role in shaping the future. The journey ahead is one of innovation, but it also calls for wisdom and responsibility as we integrate these powerful tools into our lives.\n"
     ]
    }
   ],
   "source": [
    "new_content=graph.invoke(Command(resume=False),config=thread_config)\n",
    "print(new_content['content'])"
   ]
  },
  {
   "cell_type": "code",
   "execution_count": 92,
   "metadata": {},
   "outputs": [],
   "source": [
    "for event in graph.stream(None,thread_config,stream_mode=\"values\"):\n",
    "    event\n"
   ]
  },
  {
   "cell_type": "code",
   "execution_count": 86,
   "metadata": {},
   "outputs": [
    {
     "data": {
      "text/plain": [
       "False"
      ]
     },
     "execution_count": 86,
     "metadata": {},
     "output_type": "execute_result"
    }
   ],
   "source": [
    "new_content['content']==event['content']"
   ]
  },
  {
   "cell_type": "code",
   "execution_count": 96,
   "metadata": {},
   "outputs": [
    {
     "data": {
      "text/plain": [
       "('human_feedback',)"
      ]
     },
     "execution_count": 96,
     "metadata": {},
     "output_type": "execute_result"
    }
   ],
   "source": [
    "state=graph.get_state(thread_config)\n",
    "state.next"
   ]
  },
  {
   "cell_type": "markdown",
   "metadata": {},
   "source": [
    "## new feedback"
   ]
  },
  {
   "cell_type": "code",
   "execution_count": 114,
   "metadata": {},
   "outputs": [],
   "source": [
    "from typing import TypedDict\n",
    "\n",
    "class GraphState(TypedDict):\n",
    "    topic: str\n",
    "    title: str\n",
    "    content: str\n",
    "    feedback: str\n"
   ]
  },
  {
   "cell_type": "code",
   "execution_count": 108,
   "metadata": {},
   "outputs": [],
   "source": [
    "def generate_title(state:State):\n",
    "    \"\"\" LLM call to generate the title based on the given topic\"\"\" ## doc strings \n",
    "    msg=llm.invoke(f\"Generate a title based on topic{state['topic']}\")\n",
    "    print('Title:',msg.content)\n",
    "    return {'title':msg.content}"
   ]
  },
  {
   "cell_type": "code",
   "execution_count": 107,
   "metadata": {},
   "outputs": [],
   "source": [
    "def generate_content(state:State):\n",
    "    \"\"\"Generate the conent based on the given title\"\"\"\n",
    "    msg=llm.invoke(f\"Generate a 500 word blog content on the title{state['title']}\")\n",
    "    print('Blog content:',msg.content)\n",
    "    return {'content':msg.content}"
   ]
  },
  {
   "cell_type": "code",
   "execution_count": 110,
   "metadata": {},
   "outputs": [],
   "source": [
    "\n",
    "\n",
    "# # Define a function to generate a title based on the topic\n",
    "# def generate_title(state: GraphState):\n",
    "#     # Use a language model to generate a title\n",
    "#     # llm = langchain.llms.OpenAI(model_name=\"gpt-4\")\n",
    "#     prompt = f\"Generate a title for a blog post about {state['topic']}\"\n",
    "#     title = llm(prompt).strip()\n",
    "#     state['title'] = title\n",
    "#     return state\n",
    "\n",
    "# # Define a function to generate content based on the title\n",
    "# def generate_content(state: GraphState):\n",
    "#     # Use a language model to generate content\n",
    "#     # llm = langchain.llms.OpenAI(model_name=\"gpt-4\")\n",
    "#     prompt = f\"Write a blog post titled {state['title']}\"\n",
    "#     content = llm(prompt).strip()\n",
    "#     state['content'] = content\n",
    "#     return state\n",
    "\n",
    "# Define a function to collect human feedback\n",
    "def collect_feedback(state: GraphState):\n",
    "    # Simulate collecting feedback (replace with actual user input)\n",
    "    feedback = input(f\"Is the content good? (yes/no): \")\n",
    "    state['feedback'] = feedback\n",
    "    return {'feedback':feedback}\n"
   ]
  },
  {
   "cell_type": "code",
   "execution_count": 144,
   "metadata": {},
   "outputs": [
    {
     "data": {
      "image/png": "[encoded data removed]",
      "text/plain": [
       "<langgraph.graph.state.CompiledStateGraph object at 0x7335235ef170>"
      ]
     },
     "execution_count": 144,
     "metadata": {},
     "output_type": "execute_result"
    }
   ],
   "source": [
    "from langgraph.graph import StateGraph, START, END\n",
    "\n",
    "# Create a new graph\n",
    "workflow = StateGraph(GraphState)\n",
    "\n",
    "# Add nodes\n",
    "workflow.add_node(\"generate_title\", generate_title)\n",
    "workflow.add_node(\"generate_content\", generate_content)  # Ensure this node is added\n",
    "workflow.add_node(\"collect_feedback\", collect_feedback)\n",
    "\n",
    "# Add edges\n",
    "workflow.add_edge(START, \"generate_title\")\n",
    "workflow.add_edge(\"generate_title\", \"generate_content\")\n",
    "workflow.add_edge(\"generate_content\", \"collect_feedback\")\n",
    "\n",
    "# Conditional edge based on feedback\n",
    "# Conditional edge based on feedback\n",
    "def decide_next_step(state: GraphState):\n",
    "    if state['feedback'].lower() == 'yes':\n",
    "        return \"end\"  # Use 'END' as a string\n",
    "    elif state['feedback'].lower() == 'no':\n",
    "        return \"regenerate\"\n",
    "    else:\n",
    "        print(\"Invalid feedback. Please enter 'yes' or 'no'.\")\n",
    "        # Handle invalid feedback, e.g., ask for feedback again\n",
    "        return collect_feedback(state)\n",
    "\n",
    "\n",
    "workflow.add_conditional_edges(\n",
    "    \"collect_feedback\",\n",
    "    decide_next_step,\n",
    "    {\"good\": END, \"regenerate\": \"generate_content\"}  # Ensure this matches the node name\n",
    ")\n",
    "# Compile the graph\n",
    "app = workflow.compile()\n",
    "app"
   ]
  },
  {
   "cell_type": "code",
   "execution_count": 140,
   "metadata": {},
   "outputs": [
    {
     "name": "stdout",
     "output_type": "stream",
     "text": [
      "Title: \"Exploring the Future of Data Analysis: Advances in Machine Learning\"\n",
      "Blog content: ### Exploring the Future of Data Analysis: Advances in Machine Learning\n",
      "\n",
      "In the digital age, data has become a critical asset for businesses and governments alike. It drives decisions, shapes strategies, and influences outcomes in almost every sector. However, the sheer volume and complexity of the data collected daily pose significant challenges for traditional data analysis methods. This is where machine learning (ML) comes in, revolutionizing the way we process, analyze, and interpret data.\n",
      "\n",
      "#### The Role of Machine Learning in Data Analysis\n",
      "\n",
      "Machine learning is a subset of artificial intelligence that focuses on building systems that can learn from and make decisions based on data. Its applications in data analysis are vast, ranging from predictive analytics to pattern recognition and anomaly detection. ML algorithms can process large datasets more efficiently and accurately than traditional methods, making complex data analysis tasks manageable and insightful.\n",
      "\n",
      "#### Advancements in Machine Learning\n",
      "\n",
      "Recent advancements in machine learning technology have dramatically improved its capabilities. One notable advancement is the development of deep learning, a type of ML that uses neural networks with multiple layers. Deep learning models, particularly in the realm of natural language processing and image recognition, are achieving human-level performance, opening up new possibilities in data analysis.\n",
      "\n",
      "Another significant development is the integration of reinforcement learning into ML systems. This approach allows algorithms to learn by interacting with a dynamic environment, adjusting their behavior based on feedback to achieve a goal. This method is particularly useful in complex decision-making processes where data is continuously changing, such as in financial trading or autonomous vehicle navigation.\n",
      "\n",
      "#### Impact on Data Analysis\n",
      "\n",
      "The impact of these advancements on data analysis is profound. With more sophisticated ML models, businesses can now make better-informed decisions. For instance, in the healthcare sector, machine learning can predict disease outbreaks by analyzing patterns in patient data, leading to proactive measures and improved patient outcomes.\n",
      "\n",
      "In the financial sector, ML algorithms can now predict market trends with a higher degree of accuracy, enhancing risk management strategies. Moreover, the use of ML in fraud detection has led to more efficient and accurate identification of fraudulent activities, reducing financial losses.\n",
      "\n",
      "#### Challenges and Considerations\n",
      "\n",
      "While the future looks promising, there are challenges to consider. One key issue is the need for high-quality data. Machine learning models are only as good as the data they are fed. Poor quality data can lead to inaccurate predictions and poor decision-making. Therefore, data cleansing and validation processes must be robust.\n",
      "\n",
      "Another challenge is the ethical use of machine learning. As ML models become more complex, there is a growing concern about the transparency and fairness of these systems. Ensuring that ML models do not perpetuate biases and are used ethically is crucial as we move forward.\n",
      "\n",
      "#### Looking Ahead\n",
      "\n",
      "The future of data analysis is deeply intertwined with the advancements in machine learning. As we continue to integrate more sophisticated ML techniques into our analytical processes, we will likely see even more transformative changes. The ability to process and analyze data in real-time, combined with the predictive power of advanced ML models, will empower organizations to make faster and more informed decisions.\n",
      "\n",
      "Moreover, the development of explainable AI (XAI) is an exciting area that aims to make machine learning models more transparent and understandable to humans. This is particularly important as we rely more heavily on ML for critical decisions.\n",
      "\n",
      "#### Conclusion\n",
      "\n",
      "Machine learning is at the forefront of innovation in data analysis, enabling us to extract deeper insights from vast amounts of data more efficiently. As technology continues to evolve, the integration of ML into data analysis is set to become even more integral, shaping the future of decision-making across various industries. However, these advances must be accompanied by robust data management practices and ethical considerations to ensure that these powerful tools are used responsibly and to our collective benefit.\n",
      "Blog content: ### Exploring the Future of Data Analysis: Advances in Machine Learning\n",
      "\n",
      "In the ever-evolving landscape of technology, data analysis stands out as a critical function that underpins decision-making processes across various sectors, including finance, healthcare, marketing, and beyond. As the volume of data continues to grow exponentially, the methods of data analysis are also evolving, with machine learning (ML) at the forefront of these advancements. This blog post aims to explore how advances in machine learning are shaping the future of data analysis, making it more efficient, insightful, and accessible.\n",
      "\n",
      "#### The Intersection of Data and Machine Learning\n",
      "\n",
      "Data analysis involves collecting, processing, and interpreting data to uncover patterns, draw conclusions, and inform decisions. Machine learning, a subset of artificial intelligence (AI), involves algorithms that can learn from and make predictions on data. The intersection of these two fields is particularly potent because ML algorithms can automatically extract patterns from raw data, reducing the need for manual feature engineering and providing more accurate predictions.\n",
      "\n",
      "#### Recent Advances in Machine Learning Techniques\n",
      "\n",
      "Recent years have seen significant advances in machine learning techniques that are directly enhancing data analysis capabilities:\n",
      "\n",
      "1. **Deep Learning Models**: Deep learning models, such as neural networks, are becoming increasingly sophisticated. These models can handle high-dimensional data and are effective in tasks like image and speech recognition, which were previously challenging for traditional algorithms.\n",
      "\n",
      "2. **AutoML (Automated Machine Learning)**: AutoML is a technology that automates the process of applying machine learning. It can automatically select the best model, perform feature engineering, and tune hyperparameters, thereby making machine learning more accessible to non-experts.\n",
      "\n",
      "3. **Explainable AI (XAI)**: As machine learning models become more complex, understanding how they make decisions becomes crucial. Explainable AI focuses on creating models that are transparent and whose decision-making processes can be understood by humans, thereby increasing trust in the applications of ML in critical areas such as healthcare and finance.\n",
      "\n",
      "4. **Reinforcement Learning**: This type of ML allows systems to learn how to behave in an environment to maximize some notion of cumulative reward. It is particularly useful in complex decision-making scenarios, such as managing online ad auctions or optimizing logistics networks.\n",
      "\n",
      "#### Impact on Data Analysis\n",
      "\n",
      "These advancements in machine learning are transforming data analysis in several ways:\n",
      "\n",
      "- **Enhanced Insights**: Machine learning algorithms can process and analyze large datasets faster than humans, providing deeper insights and recognizing patterns that might not be obvious to the human eye.\n",
      "  \n",
      "- **Predictive Power**: With the ability to learn from data and adapt, machine learning models can predict future trends and behaviors, allowing businesses to be proactive rather than reactive.\n",
      "\n",
      "- **Automation**: Automation in data analysis through ML reduces the need for manual intervention, saving time and reducing the risk of human error. It also allows teams to focus on more strategic activities.\n",
      "\n",
      "- **Decision Support**: ML models can help in making informed decisions by providing a data-driven basis for decision-making. This is especially valuable in fields like finance, where decisions need to be both timely and accurate.\n",
      "\n",
      "#### Challenges and Considerations\n",
      "\n",
      "While the advancements in ML are promising, several challenges and considerations come with these developments:\n",
      "\n",
      "- **Data Privacy and Security**: With the increased reliance on data, ensuring privacy and security of data is paramount. Regulations like GDPR and CCPA have set stringent standards for data management.\n",
      "\n",
      "- **Bias and Fairness**: Machine learning models can inadvertently perpetuate or even exacerbate biases present in the training data. Ensuring fairness and mitigating biases is critical to the ethical use of machine learning.\n",
      "\n",
      "- **Skill Gap**: The rapid evolution of ML technologies means there is a growing need for individuals with the right skills to develop and maintain these systems. Bridging this skill gap is essential as businesses adopt these technologies.\n",
      "\n",
      "#### Conclusion\n",
      "\n",
      "The future of data analysis is inherently intertwined with the advancements in machine learning. As machine learning continues to evolve, it promises to not only streamline processes but also revolutionize how we interpret and utilize data. By addressing the challenges and ethical considerations, we can ensure that these technological advancements lead to positive, impactful outcomes in various aspects of our lives and industries.\n",
      "\n",
      "As we look forward, the integration of these technologies will continue to drive innovation, making data analysis more powerful, accessible, and reliable. The journey is exciting, and the possibilities are vast, promising a future where data-driven decisions are not just an ideal, but a reality across all sectors.\n"
     ]
    },
    {
     "data": {
      "text/plain": [
       "{'topic': 'Machine learning',\n",
       " 'title': '\"Exploring the Future of Data Analysis: Advances in Machine Learning\"',\n",
       " 'content': '### Exploring the Future of Data Analysis: Advances in Machine Learning\\n\\nIn the ever-evolving landscape of technology, data analysis stands out as a critical function that underpins decision-making processes across various sectors, including finance, healthcare, marketing, and beyond. As the volume of data continues to grow exponentially, the methods of data analysis are also evolving, with machine learning (ML) at the forefront of these advancements. This blog post aims to explore how advances in machine learning are shaping the future of data analysis, making it more efficient, insightful, and accessible.\\n\\n#### The Intersection of Data and Machine Learning\\n\\nData analysis involves collecting, processing, and interpreting data to uncover patterns, draw conclusions, and inform decisions. Machine learning, a subset of artificial intelligence (AI), involves algorithms that can learn from and make predictions on data. The intersection of these two fields is particularly potent because ML algorithms can automatically extract patterns from raw data, reducing the need for manual feature engineering and providing more accurate predictions.\\n\\n#### Recent Advances in Machine Learning Techniques\\n\\nRecent years have seen significant advances in machine learning techniques that are directly enhancing data analysis capabilities:\\n\\n1. **Deep Learning Models**: Deep learning models, such as neural networks, are becoming increasingly sophisticated. These models can handle high-dimensional data and are effective in tasks like image and speech recognition, which were previously challenging for traditional algorithms.\\n\\n2. **AutoML (Automated Machine Learning)**: AutoML is a technology that automates the process of applying machine learning. It can automatically select the best model, perform feature engineering, and tune hyperparameters, thereby making machine learning more accessible to non-experts.\\n\\n3. **Explainable AI (XAI)**: As machine learning models become more complex, understanding how they make decisions becomes crucial. Explainable AI focuses on creating models that are transparent and whose decision-making processes can be understood by humans, thereby increasing trust in the applications of ML in critical areas such as healthcare and finance.\\n\\n4. **Reinforcement Learning**: This type of ML allows systems to learn how to behave in an environment to maximize some notion of cumulative reward. It is particularly useful in complex decision-making scenarios, such as managing online ad auctions or optimizing logistics networks.\\n\\n#### Impact on Data Analysis\\n\\nThese advancements in machine learning are transforming data analysis in several ways:\\n\\n- **Enhanced Insights**: Machine learning algorithms can process and analyze large datasets faster than humans, providing deeper insights and recognizing patterns that might not be obvious to the human eye.\\n  \\n- **Predictive Power**: With the ability to learn from data and adapt, machine learning models can predict future trends and behaviors, allowing businesses to be proactive rather than reactive.\\n\\n- **Automation**: Automation in data analysis through ML reduces the need for manual intervention, saving time and reducing the risk of human error. It also allows teams to focus on more strategic activities.\\n\\n- **Decision Support**: ML models can help in making informed decisions by providing a data-driven basis for decision-making. This is especially valuable in fields like finance, where decisions need to be both timely and accurate.\\n\\n#### Challenges and Considerations\\n\\nWhile the advancements in ML are promising, several challenges and considerations come with these developments:\\n\\n- **Data Privacy and Security**: With the increased reliance on data, ensuring privacy and security of data is paramount. Regulations like GDPR and CCPA have set stringent standards for data management.\\n\\n- **Bias and Fairness**: Machine learning models can inadvertently perpetuate or even exacerbate biases present in the training data. Ensuring fairness and mitigating biases is critical to the ethical use of machine learning.\\n\\n- **Skill Gap**: The rapid evolution of ML technologies means there is a growing need for individuals with the right skills to develop and maintain these systems. Bridging this skill gap is essential as businesses adopt these technologies.\\n\\n#### Conclusion\\n\\nThe future of data analysis is inherently intertwined with the advancements in machine learning. As machine learning continues to evolve, it promises to not only streamline processes but also revolutionize how we interpret and utilize data. By addressing the challenges and ethical considerations, we can ensure that these technological advancements lead to positive, impactful outcomes in various aspects of our lives and industries.\\n\\nAs we look forward, the integration of these technologies will continue to drive innovation, making data analysis more powerful, accessible, and reliable. The journey is exciting, and the possibilities are vast, promising a future where data-driven decisions are not just an ideal, but a reality across all sectors.',\n",
       " 'feedback': 'yes'}"
      ]
     },
     "execution_count": 140,
     "metadata": {},
     "output_type": "execute_result"
    }
   ],
   "source": [
    "state=app.invoke({\"topic\":\"Machine learning\"})\n",
    "state"
   ]
  },
  {
   "cell_type": "code",
   "execution_count": 141,
   "metadata": {},
   "outputs": [
    {
     "name": "stdout",
     "output_type": "stream",
     "text": [
      "### Exploring the Future of Data Analysis: Advances in Machine Learning\n",
      "\n",
      "In the ever-evolving landscape of technology, data analysis stands out as a critical function that underpins decision-making processes across various sectors, including finance, healthcare, marketing, and beyond. As the volume of data continues to grow exponentially, the methods of data analysis are also evolving, with machine learning (ML) at the forefront of these advancements. This blog post aims to explore how advances in machine learning are shaping the future of data analysis, making it more efficient, insightful, and accessible.\n",
      "\n",
      "#### The Intersection of Data and Machine Learning\n",
      "\n",
      "Data analysis involves collecting, processing, and interpreting data to uncover patterns, draw conclusions, and inform decisions. Machine learning, a subset of artificial intelligence (AI), involves algorithms that can learn from and make predictions on data. The intersection of these two fields is particularly potent because ML algorithms can automatically extract patterns from raw data, reducing the need for manual feature engineering and providing more accurate predictions.\n",
      "\n",
      "#### Recent Advances in Machine Learning Techniques\n",
      "\n",
      "Recent years have seen significant advances in machine learning techniques that are directly enhancing data analysis capabilities:\n",
      "\n",
      "1. **Deep Learning Models**: Deep learning models, such as neural networks, are becoming increasingly sophisticated. These models can handle high-dimensional data and are effective in tasks like image and speech recognition, which were previously challenging for traditional algorithms.\n",
      "\n",
      "2. **AutoML (Automated Machine Learning)**: AutoML is a technology that automates the process of applying machine learning. It can automatically select the best model, perform feature engineering, and tune hyperparameters, thereby making machine learning more accessible to non-experts.\n",
      "\n",
      "3. **Explainable AI (XAI)**: As machine learning models become more complex, understanding how they make decisions becomes crucial. Explainable AI focuses on creating models that are transparent and whose decision-making processes can be understood by humans, thereby increasing trust in the applications of ML in critical areas such as healthcare and finance.\n",
      "\n",
      "4. **Reinforcement Learning**: This type of ML allows systems to learn how to behave in an environment to maximize some notion of cumulative reward. It is particularly useful in complex decision-making scenarios, such as managing online ad auctions or optimizing logistics networks.\n",
      "\n",
      "#### Impact on Data Analysis\n",
      "\n",
      "These advancements in machine learning are transforming data analysis in several ways:\n",
      "\n",
      "- **Enhanced Insights**: Machine learning algorithms can process and analyze large datasets faster than humans, providing deeper insights and recognizing patterns that might not be obvious to the human eye.\n",
      "  \n",
      "- **Predictive Power**: With the ability to learn from data and adapt, machine learning models can predict future trends and behaviors, allowing businesses to be proactive rather than reactive.\n",
      "\n",
      "- **Automation**: Automation in data analysis through ML reduces the need for manual intervention, saving time and reducing the risk of human error. It also allows teams to focus on more strategic activities.\n",
      "\n",
      "- **Decision Support**: ML models can help in making informed decisions by providing a data-driven basis for decision-making. This is especially valuable in fields like finance, where decisions need to be both timely and accurate.\n",
      "\n",
      "#### Challenges and Considerations\n",
      "\n",
      "While the advancements in ML are promising, several challenges and considerations come with these developments:\n",
      "\n",
      "- **Data Privacy and Security**: With the increased reliance on data, ensuring privacy and security of data is paramount. Regulations like GDPR and CCPA have set stringent standards for data management.\n",
      "\n",
      "- **Bias and Fairness**: Machine learning models can inadvertently perpetuate or even exacerbate biases present in the training data. Ensuring fairness and mitigating biases is critical to the ethical use of machine learning.\n",
      "\n",
      "- **Skill Gap**: The rapid evolution of ML technologies means there is a growing need for individuals with the right skills to develop and maintain these systems. Bridging this skill gap is essential as businesses adopt these technologies.\n",
      "\n",
      "#### Conclusion\n",
      "\n",
      "The future of data analysis is inherently intertwined with the advancements in machine learning. As machine learning continues to evolve, it promises to not only streamline processes but also revolutionize how we interpret and utilize data. By addressing the challenges and ethical considerations, we can ensure that these technological advancements lead to positive, impactful outcomes in various aspects of our lives and industries.\n",
      "\n",
      "As we look forward, the integration of these technologies will continue to drive innovation, making data analysis more powerful, accessible, and reliable. The journey is exciting, and the possibilities are vast, promising a future where data-driven decisions are not just an ideal, but a reality across all sectors.\n"
     ]
    }
   ],
   "source": [
    "print(state['content'])"
   ]
  },
  {
   "cell_type": "code",
   "execution_count": null,
   "metadata": {},
   "outputs": [],
   "source": []
  }
 ],
 "metadata": {
  "kernelspec": {
   "display_name": "Python 3",
   "language": "python",
   "name": "python3"
  },
  "language_info": {
   "codemirror_mode": {
    "name": "ipython",
    "version": 3
   },
   "file_extension": ".py",
   "mimetype": "text/x-python",
   "name": "python",
   "nbconvert_exporter": "python",
   "pygments_lexer": "ipython3",
   "version": "3.12.9"
  }
 },
 "nbformat": 4,
 "nbformat_minor": 2
}
